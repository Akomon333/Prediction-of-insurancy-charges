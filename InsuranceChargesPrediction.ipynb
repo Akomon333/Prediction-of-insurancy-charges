{
  "nbformat": 4,
  "nbformat_minor": 0,
  "metadata": {
    "colab": {
      "provenance": [],
      "authorship_tag": "ABX9TyM8Zm45iwcnC46XEG98cjV3",
      "include_colab_link": true
    },
    "kernelspec": {
      "name": "python3",
      "display_name": "Python 3"
    },
    "language_info": {
      "name": "python"
    }
  },
  "cells": [
    {
      "cell_type": "markdown",
      "metadata": {
        "id": "view-in-github",
        "colab_type": "text"
      },
      "source": [
        "<a href=\"https://colab.research.google.com/github/Akomon333/Prediction-of-insurancy-charges/blob/main/InsuranceChargesPrediction.ipynb\" target=\"_parent\"><img src=\"https://colab.research.google.com/assets/colab-badge.svg\" alt=\"Open In Colab\"/></a>"
      ]
    },
    {
      "cell_type": "code",
      "execution_count": null,
      "metadata": {
        "id": "VjmjYnJnJ2yh"
      },
      "outputs": [],
      "source": [
        "!pip install opendatasets"
      ]
    },
    {
      "cell_type": "code",
      "source": [
        "from google.colab import drive\n",
        "import opendatasets as od\n",
        "import pandas as pd\n",
        "import numpy as np\n",
        "from sklearn.model_selection import train_test_split\n",
        "from sklearn.metrics import mean_absolute_error\n",
        "import sklearn.linear_model\n",
        "from sklearn.preprocessing import StandardScaler\n",
        "from sklearn.preprocessing import PolynomialFeatures\n",
        "drive.mount(\"/content/drive\")"
      ],
      "metadata": {
        "id": "1LZkDgYYKRNF"
      },
      "execution_count": null,
      "outputs": []
    },
    {
      "cell_type": "code",
      "source": [
        "od.download(\"https://www.kaggle.com/datasets/mosapabdelghany/medical-insurance-cost-dataset\")"
      ],
      "metadata": {
        "id": "wLU2eHwgKsiu"
      },
      "execution_count": null,
      "outputs": []
    },
    {
      "cell_type": "code",
      "source": [
        "path = \"./medical-insurance-cost-dataset/insurance.csv\"\n",
        "data = pd.read_csv(path)\n",
        "print(data)"
      ],
      "metadata": {
        "id": "SI0dAujdKxHQ"
      },
      "execution_count": null,
      "outputs": []
    },
    {
      "cell_type": "code",
      "source": [
        "def data_engineering(df):\n",
        "    fixed_data = df.copy()\n",
        "\n",
        "    fixed_data[\"smoker\"] = fixed_data[\"smoker\"].map({\"yes\": 1, \"no\": 0})\n",
        "    fixed_data[\"sex\"] = fixed_data[\"sex\"].map({\"female\": 1, \"male\": 0})\n",
        "    fixed_data[\"region\"] = fixed_data[\"region\"].map({\n",
        "        \"southwest\": 0, \"southeast\": 1, \"northwest\": 2, \"northeast\": 3\n",
        "    })\n",
        "\n",
        "    numeric_cols = fixed_data.select_dtypes(include=[\"int\", \"float\"]).columns\n",
        "\n",
        "    poly = PolynomialFeatures(degree=3, include_bias=False)\n",
        "    X_poly = poly.fit_transform(fixed_data[numeric_cols])\n",
        "\n",
        "    poly_features = poly.get_feature_names_out(numeric_cols)\n",
        "    fixed_data_poly = pd.DataFrame(X_poly, columns=poly_features, index=fixed_data.index)\n",
        "\n",
        "    return fixed_data_poly"
      ],
      "metadata": {
        "id": "JSWfl4SVT37I"
      },
      "execution_count": 32,
      "outputs": []
    },
    {
      "cell_type": "code",
      "source": [
        "engineered_data = data_engineering(data)\n",
        "X = engineered_data.drop(\"charges\", axis=1).values\n",
        "y = engineered_data[\"charges\"].values\n",
        "\n",
        "X_train, X_test, y_train, y_test = train_test_split(\n",
        "    X, y, test_size=0.2, random_state=42\n",
        ")\n",
        "\n",
        "scaler = StandardScaler()\n",
        "\n",
        "scaler.fit(X_train)\n",
        "\n",
        "X_train_scaled = pd.DataFrame(scaler.transform(X_train),\n",
        "                              columns=engineered_data.drop(\"charges\", axis=1).columns)\n",
        "X_test_scaled = pd.DataFrame(scaler.transform(X_test),\n",
        "                             columns=engineered_data.drop(\"charges\", axis=1).columns)\n",
        "\n",
        "\n",
        "\n",
        "scaler_y = StandardScaler()\n",
        "y_train_scaled = scaler_y.fit_transform(y_train.reshape(-1, 1)).ravel()\n",
        "\n",
        "\n",
        "model = sklearn.linear_model.LinearRegression()\n",
        "\n",
        "\n",
        "model.fit(X_train, y_train)\n",
        "\n",
        "\n",
        "y_pred = model.predict(X_test)\n",
        "mae = mean_absolute_error(y_test, y_pred)\n",
        "\n",
        "\n",
        "model.fit(X_train_scaled, y_train_scaled)\n",
        "\n",
        "y_pred_scaled = model.predict(X_test_scaled)\n",
        "\n",
        "y_pred_scaled = model.predict(X_test_scaled)\n",
        "\n",
        "\n",
        "y_pred = scaler_y.inverse_transform(y_pred_scaled.reshape(-1, 1)).ravel()\n",
        "\n",
        "mae = mean_absolute_error(y_test, y_pred)\n",
        "print(f\"Mean Absolute Error: {mae}\")"
      ],
      "metadata": {
        "colab": {
          "base_uri": "https://localhost:8080/"
        },
        "id": "VvQwNkOPa7AI",
        "outputId": "927fcfb5-0e90-41c3-d176-51b8c16366b1"
      },
      "execution_count": 34,
      "outputs": [
        {
          "output_type": "stream",
          "name": "stdout",
          "text": [
            "Mean Absolute Error: 93.87267507049026\n"
          ]
        }
      ]
    },
    {
      "cell_type": "code",
      "source": [],
      "metadata": {
        "id": "NtP2c-vlcna0"
      },
      "execution_count": null,
      "outputs": []
    }
  ]
}